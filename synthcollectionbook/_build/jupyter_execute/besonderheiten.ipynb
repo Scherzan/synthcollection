{
 "cells": [
  {
   "cell_type": "markdown",
   "metadata": {},
   "source": [
    "# Besonderheiten\n",
    "\n",
    "###### Welche Arten von synthetischen Daten gibt es?\n",
    "```{figure} images/Arten_SD.png\n",
    "---\n",
    "figclass: boxed\n",
    "width: 100%\n",
    "---\n",
    "Synthetische Daten unterscheiden sich nach dem Grad der Wiedergabetreue.\n",
    "```"
   ]
  },
  {
   "cell_type": "markdown",
   "metadata": {},
   "source": [
    "###### Was macht den Einsatz von synthetischen Daten spannend?\n",
    "\n",
    "1. Synthetische Daten sehen aus und fühlen sich an wie echte Daten.\n",
    "\n",
    "```{figure} images/bilder_anon.png\n",
    "---\n",
    "figclass: boxed\n",
    "width: 100%\n",
    "---\n",
    "```\n",
    "<br/><br/>\n",
    "2. Synthetische Daten enthalten keine personenbezogenen Informationen, da sie aus zufälligen Zahlen generiert werden.\n",
    "\n",
    "```{figure} images/ctgan_architecure.png\n",
    "---\n",
    "figclass: boxed\n",
    "width: 100%\n",
    "---\n",
    "```"
   ]
  }
 ],
 "metadata": {
  "kernelspec": {
   "display_name": "synthcollection",
   "language": "python",
   "name": "python3"
  },
  "language_info": {
   "codemirror_mode": {
    "name": "ipython",
    "version": 3
   },
   "file_extension": ".py",
   "mimetype": "text/x-python",
   "name": "python",
   "nbconvert_exporter": "python",
   "pygments_lexer": "ipython3",
   "version": "3.9.17"
  }
 },
 "nbformat": 4,
 "nbformat_minor": 2
}