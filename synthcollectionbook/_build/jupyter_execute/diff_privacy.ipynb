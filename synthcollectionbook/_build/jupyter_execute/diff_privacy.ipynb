{
 "cells": [
  {
   "cell_type": "markdown",
   "metadata": {},
   "source": [
    "# Differential Privacy\n",
    "\n",
    "1. mathematische Definition von Privatsphäre\n",
    "2. erlaubt Steuerung des Grades an Privatsphäre\n",
    "3. Gold Standard beim Schutz vor Reidentifikations-Angriffen\n",
    " "
   ]
  },
  {
   "cell_type": "markdown",
   "metadata": {},
   "source": [
    "```{admonition} Mathematische Definition \n",
    "\n",
    "Eine Funktion $F$, die Differential Privacy umsetzt, gilt als Differential Privacy konform, wenn alle *nachbar Datensätze* $x$ und $x'$ und alle möglichen Outputs $S$\n",
    "\n",
    "$$\n",
    "\\frac{\\mathsf{Pr}[F(x) = S]}{\\mathsf{Pr}[F(x') = S]} \\leq e^\\epsilon\n",
    "$$\n",
    "\n",
    "```\n",
    "\n",
    "$F$'s Ergebnis wird gleich bleiben, *mit oder ohne* den Daten eines spezifischen Individuums.\n",
    "Dabei sind zwei Datensätze benachbart, wenn sie sich nur um einem Eintrag unterscheiden.\n",
    "\n",
    "- $\\\\epsilon$ nennt sich *privacy parameter* bzw. *privacy budget*. \n",
    "- $\\\\epsilon$ erlaub \\\"die Menge an Privatsphäre\\\" zu steuern \n",
    "- Kleines $\\\\epsilon$ setzt hohes Level an Privatsphäre um \n",
    "- Großes $\\\\epsilon$ erfordert weniger ähnliche Outputs und bieten damit weniger Privatsphäre"
   ]
  },
  {
   "cell_type": "markdown",
   "metadata": {},
   "source": [
    "```{admonition} Intuition \n",
    "Ein differenziell privater Algorithmus (Abfrage) verhält sich ungefähr gleich auf zwei ähnlichen Datensätzen. Dies versichert für einen einzelnen Eintrag, dass die Präsenz oder Abwesenheit keinen signifikanten Einfluss auf das Ergebnis der Abfrage hat.\n",
    "```\n",
    "❗-> Es sind damit keine Rückschlüsse auf Merkmale einzelner Individuen im Datensatz möglich."
   ]
  },
  {
   "cell_type": "markdown",
   "metadata": {},
   "source": [
    "```{figure} images/statice_DP.png\n",
    "---\n",
    "figclass: boxed\n",
    "width: 100%\n",
    "---\n",
    "```"
   ]
  },
  {
   "cell_type": "markdown",
   "metadata": {},
   "source": [
    "Besonderheit von Differential Privacy:\n",
    "- Bezug auf den Algorithmus zur Abfrage (Unterschied zu k-Anonymity)\n",
    "\n",
    "❗-> Daten sind differenziell privat, wenn der Algorithmus, der die Daten erstellt, differenziell privat ist. "
   ]
  }
 ],
 "metadata": {
  "kernelspec": {
   "display_name": "unlocking-information",
   "language": "python",
   "name": "python3"
  },
  "language_info": {
   "codemirror_mode": {
    "name": "ipython",
    "version": 3
   },
   "file_extension": ".py",
   "mimetype": "text/x-python",
   "name": "python",
   "nbconvert_exporter": "python",
   "pygments_lexer": "ipython3",
   "version": "3.9.17"
  }
 },
 "nbformat": 4,
 "nbformat_minor": 2
}