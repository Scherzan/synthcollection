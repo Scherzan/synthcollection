{
 "cells": [
  {
   "cell_type": "markdown",
   "metadata": {},
   "source": [
    "# Datenauswertung\n"
   ]
  },
  {
   "cell_type": "markdown",
   "metadata": {},
   "source": [
    "##### Warum brauchen wir Daten?\n",
    "\n",
    "Daten geben Informationen preis, oft in Form von Statistiken (aggregierte Repräsentationen). Wir nutzen Daten indem wir Informationsabfragen an eine Datengrundlage stellen.\n",
    "\n",
    "```{admonition} Beispiel: Abfrage von Häufigkeiten\n",
    "\n",
    "Wie viele Kinder sind im zwischen 9 Jahre und 12 Jahre alt? (Anzahl Kinder pro Alter)\n",
    "\n",
    "``` \n",
    "\n",
    "Uns reichen hier erstmal aggregierte Werte bspw. in einem Balkendiagramm. \n",
    "\n",
    "-> Nutzung einer synthetischen Repräsentation der Daten \n",
    "-> Wahrung von Datenschutz\n",
    "\n",
    "```{dropdown} Nachteile?\n",
    "Das Balkendiagramm hilft uns nur bei dieser einen spezifischen Abfrage. Für eine andere Abfrage müssen wir eine neue synthetische Repräsentation erstellen.\n",
    "```"
   ]
  },
  {
   "cell_type": "code",
   "execution_count": 1,
   "metadata": {},
   "outputs": [
    {
     "name": "stdout",
     "output_type": "stream",
     "text": [
      "Anzahl Kinder zwischen 9 und 12 Jahren: 250\n"
     ]
    }
   ],
   "source": [
    "import pandas as pd\n",
    "import matplotlib.pyplot as plt\n",
    "\n",
    "med_data = pd.read_excel('./data/RPAD_data_small.xlsx', engine='openpyxl')\n",
    "\n",
    "# Funktion zur Abfrage Anzahl Kinder in einer Alterspanne (a-b)\n",
    "def range_query(df, col, a, b):\n",
    "    return len(df[(df[col] >= a) & (df[col] < b)])\n",
    "\n",
    "print(f'Anzahl Kinder zwischen 9 und 12 Jahren: {range_query(med_data, \"Age\", 9, 12)}')"
   ]
  },
  {
   "cell_type": "code",
   "execution_count": 2,
   "metadata": {},
   "outputs": [
    {
     "data": {
      "text/plain": [
       "<BarContainer object of 20 artists>"
      ]
     },
     "execution_count": 2,
     "metadata": {},
     "output_type": "execute_result"
    },
    {
     "data": {
      "image/png": "[encoded data removed]",
      "text/plain": [
       "<Figure size 640x480 with 1 Axes>"
      ]
     },
     "metadata": {},
     "output_type": "display_data"
    }
   ],
   "source": [
    "# Synthetische Repräsentation als Balkendiagramm\n",
    "bins = list(range(0, 20))\n",
    "counts = [range_query(med_data, \"Age\", b, b+1) for b in bins]\n",
    "plt.xlabel('Alter')\n",
    "plt.ylabel('Anzahl Kinder')\n",
    "plt.bar(bins, counts)"
   ]
  },
  {
   "cell_type": "markdown",
   "metadata": {},
   "source": [
    "```{admonition} Hinweis \n",
    "\n",
    "Das Ergebnis ist genau gleich, egal ob wir die Abfrage an die echten Daten oder die Repräsentation stellen.\n",
    "\n",
    "```"
   ]
  }
 ],
 "metadata": {
  "kernelspec": {
   "display_name": "unlocking-information",
   "language": "python",
   "name": "python3"
  },
  "language_info": {
   "codemirror_mode": {
    "name": "ipython",
    "version": 3
   },
   "file_extension": ".py",
   "mimetype": "text/x-python",
   "name": "python",
   "nbconvert_exporter": "python",
   "pygments_lexer": "ipython3",
   "version": "3.9.17"
  }
 },
 "nbformat": 4,
 "nbformat_minor": 2
}