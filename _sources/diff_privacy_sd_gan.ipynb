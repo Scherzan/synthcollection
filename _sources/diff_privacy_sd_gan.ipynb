{
 "cells": [
  {
   "cell_type": "markdown",
   "metadata": {},
   "source": [
    "# Synthetische Daten mit KI\n"
   ]
  },
  {
   "cell_type": "markdown",
   "metadata": {},
   "source": [
    "```{dropdown} Sind synthetische Daten ohne Gefahren teilbar? Nach aktueller DSGVO eigentlich ja, ...\n",
    "aber es besteht das Risiko, durch Fehler im Generierungsprozess, gegen die DSGVO zu verstoßen.\n",
    "```"
   ]
  },
  {
   "cell_type": "markdown",
   "metadata": {},
   "source": [
    "Dadurch ergibt sich ein Bedarf an Regulierung und einheitlichen Standards für die Nutzung von synthetischen Daten.\n",
    "\n",
    "```{admonition} Bestehende Regulierungen  \n",
    "Arbeitsgruppe der Synthetic Data Industry Connections der IEEE Association erarbeitet Vorschlägen zu Privatsphärestandards und Qualitätsstandards bei KI-generierten synthetischen Daten.\n",
    "```{figure} images/iee_sa.png\n",
    "---\n",
    "figclass: boxed\n",
    "width: 50%\n",
    "---\n",
    "```\n",
    "\n",
    "       "
   ]
  },
  {
   "cell_type": "markdown",
   "metadata": {},
   "source": [
    "```{dropdown} Risikofrei? Nein, ...\n",
    "\n",
    "aber wir können Differential Privacy in den Generierungsprozess integrieren,\n",
    "       der die eingehaltene Privatsphäre im synthetischen Datensatz kontrolliert. \n",
    "```\n",
    "\n",
    "```{admonition} Forschungsergebnisse  \n",
    "Challenge der National Institute of Standards and Technology mit DP-Algorithmen zur Generierung synthetischer Daten. (GAN-Version belegte Platz 5.)\n",
    "```{figure} images/NIST_challenge.png\n",
    "---\n",
    "figclass: boxed\n",
    "width: 100%\n",
    "---\n",
    "```\n"
   ]
  },
  {
   "cell_type": "markdown",
   "metadata": {},
   "source": [
    "```{admonition} Platz 1  \n",
    "```{figure} images/nist1.png\n",
    "---\n",
    "figclass: boxed\n",
    "width: 100%\n",
    "---\n",
    "```"
   ]
  },
  {
   "cell_type": "markdown",
   "metadata": {},
   "source": [
    "```{dropdown} Platz 2\n",
    " \n",
    "```{figure} images/nist2.png\n",
    "---\n",
    "figclass: boxed\n",
    "width: 100%\n",
    "---\n",
    "```"
   ]
  },
  {
   "cell_type": "markdown",
   "metadata": {},
   "source": [
    "```{dropdown} Platz 3\n",
    " \n",
    "```{figure} images/nist3.png\n",
    "---\n",
    "figclass: boxed\n",
    "width: 100%\n",
    "---\n",
    "```\n"
   ]
  },
  {
   "cell_type": "markdown",
   "metadata": {},
   "source": [
    "```{dropdown} Platz 4\n",
    " \n",
    "```{figure} images/nist4.png\n",
    "---\n",
    "figclass: boxed\n",
    "width: 100%\n",
    "---\n",
    "```\n"
   ]
  },
  {
   "cell_type": "markdown",
   "metadata": {},
   "source": [
    "```{admonition} Platz 5  \n",
    "```{figure} images/nist5.png\n",
    "---\n",
    "figclass: boxed\n",
    "width: 100%\n",
    "---\n",
    "```"
   ]
  }
 ],
 "metadata": {
  "language_info": {
   "name": "python"
  },
  "orig_nbformat": 4
 },
 "nbformat": 4,
 "nbformat_minor": 2
}
