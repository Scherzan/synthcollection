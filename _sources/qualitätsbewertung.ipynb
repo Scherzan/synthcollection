{
    "cells": [
        {
            "cell_type": "markdown",
            "metadata": {},
            "source": [
                "# Qualitätsbewertung\n",
                "\n",
                "Insbesondere für die Generierung von Forschungsdaten erfordert eine hohe Wiedergabetreue. Die Qualität der synthetischen Daten kann u.a. mit folgenden Metriken gemessen werden. Die Übersicht stammt von Hernandez et al. 2021 'Standardised Metrics and Methods for Synthetic Tabular Data Evaluation'; TechRxiv; und wurde um eigene Angaben ergänzt."
            ]
        },
        {
            "cell_type": "markdown",
            "metadata": {},
            "source": [
                "[Qualitätsmetriken Baum Übersicht (englisch)](html_folder/render.html)"
            ]
        }
    ],
    "metadata": {
        "kernelspec": {
            "display_name": "recoveredenv",
            "language": "python",
            "name": "python3"
        },
        "language_info": {
            "codemirror_mode": {
                "name": "ipython",
                "version": 3
            },
            "file_extension": ".py",
            "mimetype": "text/x-python",
            "name": "python",
            "nbconvert_exporter": "python",
            "pygments_lexer": "ipython3",
            "version": "3.9.17"
        },
        "orig_nbformat": 4
    },
    "nbformat": 4,
    "nbformat_minor": 2
}
