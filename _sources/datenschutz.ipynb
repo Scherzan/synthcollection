{
 "cells": [
  {
   "cell_type": "markdown",
   "metadata": {},
   "source": [
    "# Datenschutz\n",
    "\n",
    "```{admonition} Begriffe \n",
    "Datenschutz und Privatsphäre werden folgend synonym verwendet und beziehen sich auf das Verhindern des Preisgebens von schützenswerten Informationen.\n",
    "``` "
   ]
  },
  {
   "cell_type": "markdown",
   "metadata": {},
   "source": [
    "```{admonition} Ziel\n",
    "Techniken zur Umsetzung von Datenschutz erlauben das Informieren über Trends und Eigenschaften einer Datengrundlage, ohne die schützenswerten Informationen von einzelnen Personen preiszugeben.\n",
    "``` \n",
    "<br/><br/>\n",
    "Techniken zur Umsetzung von Datenschutz beabsichtigen:\n",
    "\n",
    "- eine Veröffentlichung von Daten\n",
    "- eine Kontrolle über Detailgrad von Informationen aus einem Datensatz\n",
    "\n",
    "<br/><br/>\n",
    "Darunter zählen NICHT Techniken zur Umsetzung von Datensicherheit bspw. Verschlüsselung, da diese andere Ziele verfolgen, wie:\n",
    "\n",
    "- Prävention der Veröffentlichung von Daten\n",
    "- Kontrolle über den Zugriff auf Daten"
   ]
  }
 ],
 "metadata": {
  "kernelspec": {
   "display_name": "unlocking-information",
   "language": "python",
   "name": "python3"
  },
  "language_info": {
   "codemirror_mode": {
    "name": "ipython",
    "version": 3
   },
   "file_extension": ".py",
   "mimetype": "text/x-python",
   "name": "python",
   "nbconvert_exporter": "python",
   "pygments_lexer": "ipython3",
   "version": "3.9.17"
  },
  "orig_nbformat": 4
 },
 "nbformat": 4,
 "nbformat_minor": 2
}
